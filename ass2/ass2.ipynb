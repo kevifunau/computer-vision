{
 "cells": [
  {
   "cell_type": "code",
   "execution_count": 1,
   "metadata": {},
   "outputs": [],
   "source": [
    "import cv2\n",
    "import numpy as np\n",
    "import matplotlib.pyplot as plt\n",
    "from time import time\n",
    "\n",
    "RANSAC_ITER = 300\n",
    "\n",
    "RANSAC_THERSHOLD = 5"
   ]
  },
  {
   "cell_type": "code",
   "execution_count": 2,
   "metadata": {},
   "outputs": [],
   "source": [
    "raw_img1= cv2.imread(\"input/img01.jpg\")\n",
    "raw_img2= cv2.imread(\"input/img02.jpg\")\n",
    "\n",
    "sift=cv2.xfeatures2d.SIFT_create(200)\n",
    "kps1 ,des1= sift.detectAndCompute(raw_img1,None)\n",
    "kps2 ,des2= sift.detectAndCompute(raw_img2,None)\n",
    "bf = cv2.BFMatcher()\n",
    "match_list = bf.knnMatch(des1,des2,2)\n"
   ]
  },
  {
   "cell_type": "code",
   "execution_count": null,
   "metadata": {},
   "outputs": [],
   "source": []
  },
  {
   "cell_type": "code",
   "execution_count": 7,
   "metadata": {},
   "outputs": [],
   "source": [
    "good_match_list = [m for m, n in match_list if m.distance < 0.75 * n.distance]\n",
    "\n",
    "src_pts = np.float32([kps1[m.queryIdx].pt for m in good_match_list])\n",
    "dst_pts = np.float32([kps2[m.trainIdx].pt for m in good_match_list])\n"
   ]
  },
  {
   "cell_type": "code",
   "execution_count": 8,
   "metadata": {},
   "outputs": [
    {
     "data": {
      "text/plain": [
       "(136, 2)"
      ]
     },
     "execution_count": 8,
     "metadata": {},
     "output_type": "execute_result"
    }
   ],
   "source": [
    "src_pts.shape"
   ]
  },
  {
   "cell_type": "code",
   "execution_count": 38,
   "metadata": {},
   "outputs": [],
   "source": [
    "def random_partition(data):\n",
    "    '''\n",
    "    randomly select two points     \n",
    "    '''\n",
    "    np.random.shuffle(data)\n",
    "    twoPoints = data[:4]\n",
    "    samplePoint = data[4:]\n",
    "    return twoPoints,samplePoint\n",
    "\n",
    "\n",
    "def H_from_points(fp,tp):\n",
    "    \"\"\" DLT algo\"\"\"\n",
    "    assert fp.shape == tp.shape\n",
    "    h = fp.shape[0]\n",
    "    A = np.zeros((2*h,9))\n",
    "    for i in range(h):\n",
    "        x,y,u,v=fp[i,0],fp[i,1],tp[i,0],tp[i,1]\n",
    "        A[2*i]= np.array([x,y,1,0,0,0,-u*x,-u*y,-u])\n",
    "        A[2*i+1]=np.array([0,0,0,x,y,1,-v*x,-v*y,-v])\n",
    "    U,D,V = np.linalg.svd(A)\n",
    "    H=V[8].reshape(3,3)\n",
    "    return H/H[-1,-1]\n",
    "    \n",
    "    \n",
    "\n",
    "def conliner4(a):\n",
    "    p1,p2,p3,p4=a\n",
    "    return conliner3(p1,p2,p3) or conliner3(p1,p2,p4) or conliner3(p2,p3,p4)\n",
    "    \n",
    "\n",
    "def conliner3(p1,p2,p3):\n",
    "    x1,y1=p1\n",
    "    x2,y2=p2\n",
    "    x3,y3=p3\n",
    "    return abs((y2-y1)*(x3-x1)-(y3-y1)*(x2-x1)) < 1e-12\n",
    "\n",
    "def homo_transform(pt,H):\n",
    "    _pt = np.append(pt,1)\n",
    "    _rs= np.dot(H,_pt)\n",
    "    _rs/=_rs[-1]\n",
    "    return _rs[:2]\n",
    "\n",
    "\n",
    "def myfindHomo_ransac(src_pts,dst_pts):\n",
    "    comb = list(zip(src_pts,dst_pts))\n",
    "    good_inlier_mask = None\n",
    "    best_inlier=-1\n",
    "    \n",
    "    #find good_mask and inlier\n",
    "    for _ in range(RANSAC_ITER):\n",
    "        a,b = random_partition(comb)\n",
    "        while conliner4([ pair[0] for pair in a]):\n",
    "            a,b = random_partition(comb)\n",
    "        mask = H_from_points(np.array([pair[0] for pair in a]),np.array([pair[1] for pair in a] ))\n",
    "        \n",
    "        _inlier=0\n",
    "        for src,dst in b:\n",
    "            trans_dst = homo_transform(src,mask)\n",
    "            diff = np.sqrt(sum((dst-trans_dst)**2))\n",
    "            if diff <=RANSAC_THERSHOLD:\n",
    "                _inlier +=1\n",
    "        if _inlier > best_inlier:\n",
    "            good_inlier_mask = mask\n",
    "            best_inlier = _inlier\n",
    "            \n",
    "    inlier_src=[]\n",
    "    inlier_dst=[]\n",
    "    for src,dst in comb:\n",
    "            trans_dst = homo_transform(src,good_inlier_mask)\n",
    "            diff = np.sqrt(np.sum(np.square(dst-trans_dst)))\n",
    "            if diff <=RANSAC_THERSHOLD:\n",
    "                inlier_src.append(src)\n",
    "                inlier_dst.append(dst)\n",
    "    \n",
    "    # find the best_mask\n",
    "    best_mask=[]\n",
    "    best_diff=np.float(\"Inf\")\n",
    "    comb = list(zip(inlier_src,inlier_dst))\n",
    "    for _ in range(RANSAC_ITER):\n",
    "        a,b = random_partition(comb)\n",
    "        while conliner4([ pair[0] for pair in a]):\n",
    "            a,b = random_partition(comb)\n",
    "        mask = H_from_points(np.array([pair[0] for pair in a]),np.array([pair[1] for pair in a] ))\n",
    "        \n",
    "        diff=0\n",
    "        for src,dst in b:\n",
    "            trans_dst = homo_transform(src,mask)\n",
    "            diff += np.sqrt(sum((dst-trans_dst)**2))\n",
    "        if diff < best_diff:\n",
    "            best_diff = diff\n",
    "            best_mask = mask\n",
    "    print(best_diff)\n",
    "    return best_mask\n",
    "           \n",
    "          \n",
    "        \n",
    "\n",
    "    \n",
    "        \n",
    "    \n",
    "    "
   ]
  },
  {
   "cell_type": "code",
   "execution_count": 10,
   "metadata": {},
   "outputs": [
    {
     "name": "stdout",
     "output_type": "stream",
     "text": [
      "161.632511904\n",
      "1.2048048973083496\n"
     ]
    }
   ],
   "source": [
    "t1= time()\n",
    "\n",
    "mask=myfindHomo_ransac(src_pts,dst_pts)\n",
    "print(time()-t1)\n"
   ]
  },
  {
   "cell_type": "markdown",
   "metadata": {},
   "source": [
    "   \n"
   ]
  },
  {
   "cell_type": "code",
   "execution_count": 38,
   "metadata": {
    "collapsed": true
   },
   "outputs": [],
   "source": [
    "# def mywarpPerspective(img,mask,size):\n",
    "#     new_img = np.zeros([size[1],size[0],3],dtype=np.uint8)\n",
    "#     print(new_img.shape)\n",
    "#     for i in range(size[1]):\n",
    "#         for j in range(size[0]):\n",
    "#             new_y,new_x = homo_transform([j,i],mask)\n",
    "#             new_x = int(round(new_x))\n",
    "#             new_y = int(round(new_y))\n",
    "#             if 0<=new_x < size[1] and 0<=new_y< size[0]:\n",
    "#                 new_img[new_x][new_y]=img[i][j]\n",
    "#     return new_img    "
   ]
  },
  {
   "cell_type": "code",
   "execution_count": 7,
   "metadata": {},
   "outputs": [],
   "source": [
    "def mywarpPerspective(img,M,size):\n",
    "    new_img = np.zeros([size[1],size[0],3],dtype=np.uint8)\n",
    "    print(new_img.shape)\n",
    "    for i in range(size[1]):\n",
    "        for j in range(size[0]):\n",
    "            \n",
    "            new_x = np.divide(M[1,0]*j + M[1,1]*i+M[1,2],M[2,0]*j+M[2,1]*i+M[2,2])\n",
    "            new_y = np.divide(M[0,0]*j + M[0,1]*i+M[0,2],M[2,0]*j+M[2,1]*i+M[2,2])      \n",
    "            \n",
    "            new_x = int(round(new_x))\n",
    "            new_y = int(round(new_y))\n",
    "            if 0<=new_x < size[1] and 0<=new_y< size[0]:\n",
    "                new_img[new_x][new_y]=img[i][j]\n",
    "                \n",
    "                \n",
    "    \n",
    "    return new_img    \n",
    "   "
   ]
  },
  {
   "cell_type": "code",
   "execution_count": 588,
   "metadata": {},
   "outputs": [
    {
     "name": "stdout",
     "output_type": "stream",
     "text": [
      "(5472, 3648, 3)\n",
      "169.71235752105713\n"
     ]
    }
   ],
   "source": [
    "t2=time()\n",
    "nim = mywarpPerspective(raw_img1,mask,(size[1],size[0]))\n",
    "print(time()-t2)"
   ]
  },
  {
   "cell_type": "code",
   "execution_count": 589,
   "metadata": {},
   "outputs": [
    {
     "data": {
      "text/plain": [
       "True"
      ]
     },
     "execution_count": 589,
     "metadata": {},
     "output_type": "execute_result"
    }
   ],
   "source": [
    "cv2.imwrite(\"step3.jpg\",nim)"
   ]
  },
  {
   "cell_type": "code",
   "execution_count": null,
   "metadata": {},
   "outputs": [],
   "source": []
  },
  {
   "cell_type": "code",
   "execution_count": 17,
   "metadata": {},
   "outputs": [],
   "source": [
    "def calculate_size(size_image1, size_image2, homography):\n",
    "    (h1, w1) = size_image1[:2]\n",
    "    (h2, w2) = size_image2[:2]\n",
    "    # remap the coordinates of the projected image onto the panorama image space\n",
    "    top_left = np.dot(homography, np.asarray([0, 0, 1]))\n",
    "    top_right = np.dot(homography, np.asarray([w2, 0, 1]))\n",
    "    bottom_left = np.dot(homography, np.asarray([0, h2, 1]))\n",
    "    bottom_right = np.dot(homography, np.asarray([w2, h2, 1]))\n",
    "\n",
    "    # normalize\n",
    "    top_left = top_left / top_left[2]\n",
    "    top_right = top_right / top_right[2]\n",
    "    bottom_left = bottom_left / bottom_left[2]\n",
    "    bottom_right = bottom_right / bottom_right[2]\n",
    "\n",
    "\n",
    "    pano_left = int(min(top_left[0], bottom_left[0], 0))\n",
    "    pano_right = int(max(top_right[0], bottom_right[0], w1))\n",
    "    W = pano_right - pano_left\n",
    "\n",
    "    pano_top = int(min(top_left[1], top_right[1], 0))\n",
    "    pano_bottom = int(max(bottom_left[1], bottom_right[1], h1))\n",
    "    H = pano_bottom - pano_top\n",
    "\n",
    "    size = (W, H)\n",
    "\n",
    "    # offset of first image relative to panorama\n",
    "    X = int(min(top_left[0], bottom_left[0], 0))\n",
    "    Y = int(min(top_left[1], top_right[1], 0))\n",
    "    offset = (-X, -Y)\n",
    "    \n",
    "    ## Update the homography to shift by the offset\n",
    "    # does offset need to be remapped to old coord space?\n",
    "    # print homography\n",
    "    # homography[0:2,2] += offset\n",
    "    return (size, offset)\n"
   ]
  },
  {
   "cell_type": "code",
   "execution_count": 18,
   "metadata": {},
   "outputs": [],
   "source": [
    "\n",
    "def merge_images_translation(image1, image2, offset):\n",
    "    \n",
    "    (h1, w1) = image1.shape[:2]\n",
    "    (h2, w2) = image2.shape[:2]\n",
    "    (ox, oy) = offset\n",
    "    ox = int(ox)\n",
    "    oy = int(oy)\n",
    "    oy = 0\n",
    "  \n",
    "    image = np.zeros((h1+oy, w1+ox, 3), np.uint8)\n",
    "  \n",
    "    image[:h1, :w1] = image1\n",
    "    image[:h2, ox:ox+w2] = image2\n",
    "  \n",
    "    return image\n",
    " "
   ]
  },
  {
   "cell_type": "code",
   "execution_count": 19,
   "metadata": {},
   "outputs": [],
   "source": [
    "size,offset = calculate_size(raw_img1.shape,raw_img2.shape,mask)"
   ]
  },
  {
   "cell_type": "code",
   "execution_count": 20,
   "metadata": {},
   "outputs": [],
   "source": [
    "immmmmm = merge_images_translation(raw_img1,raw_img2,offset)"
   ]
  },
  {
   "cell_type": "code",
   "execution_count": 21,
   "metadata": {},
   "outputs": [
    {
     "data": {
      "text/plain": [
       "True"
      ]
     },
     "execution_count": 21,
     "metadata": {},
     "output_type": "execute_result"
    }
   ],
   "source": [
    "cv2.imwrite(\"mmmm.jpg\",immmmmm)"
   ]
  },
  {
   "cell_type": "code",
   "execution_count": 6,
   "metadata": {},
   "outputs": [
    {
     "ename": "NameError",
     "evalue": "name 'imgs' is not defined",
     "output_type": "error",
     "traceback": [
      "\u001b[0;31m---------------------------------------------------------------------------\u001b[0m",
      "\u001b[0;31mNameError\u001b[0m                                 Traceback (most recent call last)",
      "\u001b[0;32m<ipython-input-6-d3c287b57843>\u001b[0m in \u001b[0;36m<module>\u001b[0;34m()\u001b[0m\n\u001b[1;32m      1\u001b[0m \u001b[0;34m\u001b[0m\u001b[0m\n\u001b[0;32m----> 2\u001b[0;31m \u001b[0mimgs\u001b[0m \u001b[0;34m=\u001b[0m \u001b[0mimgs\u001b[0m\u001b[0;34m[\u001b[0m\u001b[0;34m:\u001b[0m\u001b[0;34m]\u001b[0m\u001b[0;34m\u001b[0m\u001b[0m\n\u001b[0m\u001b[1;32m      3\u001b[0m \u001b[0mcenterIdx\u001b[0m \u001b[0;34m=\u001b[0m \u001b[0mlen\u001b[0m\u001b[0;34m(\u001b[0m\u001b[0mimgs\u001b[0m\u001b[0;34m)\u001b[0m\u001b[0;34m/\u001b[0m\u001b[0;36m2\u001b[0m\u001b[0;34m\u001b[0m\u001b[0m\n\u001b[1;32m      4\u001b[0m \u001b[0;34m\u001b[0m\u001b[0m\n\u001b[1;32m      5\u001b[0m \u001b[0mleft_img\u001b[0m \u001b[0;34m=\u001b[0m \u001b[0mcv2\u001b[0m\u001b[0;34m.\u001b[0m\u001b[0mimread\u001b[0m\u001b[0;34m(\u001b[0m\u001b[0mimgs\u001b[0m\u001b[0;34m[\u001b[0m\u001b[0;36m0\u001b[0m\u001b[0;34m]\u001b[0m\u001b[0;34m)\u001b[0m\u001b[0;34m\u001b[0m\u001b[0m\n",
      "\u001b[0;31mNameError\u001b[0m: name 'imgs' is not defined"
     ]
    }
   ],
   "source": [
    "\n",
    "imgs = imgs[:]\n",
    "centerIdx = len(imgs)/2\n",
    "\n",
    "left_img = cv2.imread(imgs[0])\n",
    "    \n",
    "for i in range(1, centerIdx+1):\n",
    "    right_img = cv2.imread(imgs[i])\n",
    "    H = getHomoByImage(left_img, right_img)\n",
    "    \n",
    "    xmin, xmax, ymin, ymax, T = getCoorTrans(left_img, H)\n",
    "    \n",
    "    new_H = np.matmul(T, H)\n",
    "    \n",
    "    offsety = abs(int(-ymin))\n",
    "    offsetx = abs(int(-xmin))\n",
    "\n",
    "    left_img = cv2.warpPerspective(left_img, new_H, (int(xmax-xmin),int(ymax-ymin)))\n",
    "    \n",
    "    y_diff = right_img.shape[0]+offsety - left_img.shape[0]\n",
    "    \n",
    "    if y_diff >= 0:\n",
    "        shape = list(left_img.shape)\n",
    "        shape[0] = y_diff+1\n",
    "        shape = tuple(shape)\n",
    "        blank_image = np.zeros(shape, np.uint8)\n",
    "        left_img = np.concatenate((left_img, blank_image), axis=0)\n",
    "        #left_img = np.vstack((left_img, np.zeros((left_img.shape[0], y_diff+1), dtype=left_img.dtype)))\n",
    "    x_diff = right_img.shape[1]+offsetx - left_img.shape[1]\n",
    "    if x_diff >= 0:\n",
    "        shape = list(left_img.shape)\n",
    "        shape[1] = x_diff+1\n",
    "        shape = tuple(shape)\n",
    "        blank_image = np.zeros(shape, np.uint8)\n",
    "        left_img = np.concatenate((left_img, blank_image), axis=1)\n",
    "    #right_img[offsety:left_img.shape[0]+offsety, offsetx:left_img.shape[1]+offsetx] = left_img\n",
    "    for i in range(offsety,right_img.shape[0]+offsety):\n",
    "        for j in range(offsetx,right_img.shape[1]+offsetx):\n",
    "            if np.array_equal(right_img[i-offsety, j-offsetx], np.array([0,0,0])):\n",
    "                continue\n",
    "            left_img[i, j] = right_img[i-offsety, j-offsetx]\n"
   ]
  },
  {
   "cell_type": "code",
   "execution_count": 13,
   "metadata": {},
   "outputs": [],
   "source": [
    "def calculate_size(size_image1, size_image2, homography):\n",
    "  \n",
    "    (h1, w1) = size_image1[:2]\n",
    "    (h2, w2) = size_image2[:2]\n",
    "    top_left = np.dot(homography,np.array([0,0,1]))\n",
    "    top_right = np.dot(homography,np.array([w2,0,1]))\n",
    "    bottom_left = np.dot(homography,np.array([0,h2,1]))\n",
    "    bottom_right = np.dot(homography,np.array([w2,h2,1]))\n",
    "\n",
    "    top_left = top_left/top_left[2]\n",
    "    top_right = top_right/top_right[2]\n",
    "    bottom_left = bottom_left/bottom_left[2]\n",
    "    bottom_right = bottom_right/bottom_right[2]\n",
    "\n",
    "    pano_left = int(min(top_left[0], bottom_left[0], 0))\n",
    "    pano_right = int(max(top_right[0], bottom_right[0], w1))\n",
    "    \n",
    "    W = pano_right - pano_left\n",
    "\n",
    "    pano_top = int(min(top_left[1], top_right[1], 0))\n",
    "    pano_bottom = int(max(bottom_left[1], bottom_right[1], h1))\n",
    "    H = pano_bottom - pano_top\n",
    "    \n",
    "    size = (W, H)\n",
    "\n",
    "    X = int(min(top_left[0], bottom_left[0], 0))\n",
    "    Y = int(min(top_left[1], top_right[1], 0))\n",
    "    offset = (-X, -Y)\n",
    "\n",
    "    return (size, offset)"
   ]
  },
  {
   "cell_type": "code",
   "execution_count": 30,
   "metadata": {},
   "outputs": [],
   "source": [
    "def merge_images(image1, image2, homography, size, offset):\n",
    "\n",
    "    (h1, w1) = image1.shape[:2]\n",
    "    (h2, w2) = image2.shape[:2]\n",
    "\n",
    "    panorama = np.zeros((size[1], size[0], 3), np.uint8)\n",
    "\n",
    "    (ox, oy) = offset\n",
    "\n",
    "    translation = np.matrix([[1.0, 0.0, ox],[0, 1.0, oy],[0.0, 0.0, 1.0]])\n",
    "    homography = translation * homography\n",
    "    cv2.warpPerspective(image2, homography, size, panorama)\n",
    "\n",
    "    panorama[oy:h1+oy, ox:ox+w1] = image1  \n",
    "\n",
    "    return panorama"
   ]
  },
  {
   "cell_type": "code",
   "execution_count": 83,
   "metadata": {},
   "outputs": [],
   "source": [
    "size,offset = calculate_size(raw_img1.shape,raw_img2.shape,mask)"
   ]
  },
  {
   "cell_type": "code",
   "execution_count": 71,
   "metadata": {},
   "outputs": [],
   "source": [
    "def getCoorTrans(img, M):\n",
    "    xmin = float('Inf')\n",
    "    xmax = float('-Inf')\n",
    "    ymin = float('Inf')\n",
    "    ymax = float('-Inf')\n",
    "    \n",
    "\n",
    "    corner0 = homo_transform([0, 0], M)\n",
    "    corner0[0] = int(corner0[0])\n",
    "    corner0[1] = int(corner0[1])\n",
    "    a, b = corner0\n",
    "    xmin = a if a < xmin else xmin\n",
    "    xmax = a if a > xmax else xmax\n",
    "    ymin = b if b < ymin else ymin\n",
    "    ymax = b if b > ymax else ymax\n",
    "\n",
    "    corner1 = homo_transform([img.shape[1], 0], M)\n",
    "    corner1[0] = int(corner1[0])\n",
    "    corner1[1] = int(corner1[1])\n",
    "    a, b = corner1\n",
    "    xmin = a if a < xmin else xmin\n",
    "    xmax = a if a > xmax else xmax\n",
    "    ymin = b if b < ymin else ymin\n",
    "    ymax = b if b > ymax else ymax\n",
    "\n",
    "\n",
    "    corner2 = homo_transform([0, img.shape[0]], M)\n",
    "    corner2[0] = int(corner2[0])\n",
    "    corner2[1] = int(corner2[1])\n",
    "    a, b = corner2\n",
    "    xmin = a if a < xmin else xmin\n",
    "    xmax = a if a > xmax else xmax\n",
    "    ymin = b if b < ymin else ymin\n",
    "    ymax = b if b > ymax else ymax\n",
    "\n",
    "\n",
    "\n",
    "    corner3 = homo_transform([img.shape[1], img.shape[0]], M)\n",
    "    corner3[0] = int(corner3[0])\n",
    "    corner3[1] = int(corner3[1])\n",
    "    a, b = corner3\n",
    "    xmin = a if a < xmin else xmin\n",
    "    xmax = a if a > xmax else xmax\n",
    "    ymin = b if b < ymin else ymin\n",
    "    ymax = b if b > ymax else ymax\n",
    "\n",
    "    T = np.zeros(shape=(3,3))\n",
    "    T[0] = [1, 0, 0]\n",
    "    T[1] = [0, 1, 0]\n",
    "    T[2] = [-xmin, -ymin, 1]\n",
    "\n",
    "    return xmin, xmax, ymin, ymax, T.transpose()\n"
   ]
  },
  {
   "cell_type": "code",
   "execution_count": 72,
   "metadata": {},
   "outputs": [
    {
     "data": {
      "text/plain": [
       "(-377.0, 3347.0, -165.0, 5669.0, array([[   1.,    0.,  377.],\n",
       "        [   0.,    1.,  165.],\n",
       "        [   0.,    0.,    1.]]))"
      ]
     },
     "execution_count": 72,
     "metadata": {},
     "output_type": "execute_result"
    }
   ],
   "source": [
    "getCoorTrans(raw_img1,mask)\n"
   ]
  },
  {
   "cell_type": "code",
   "execution_count": 75,
   "metadata": {},
   "outputs": [],
   "source": [
    "def CoorTrans(img, M):\n",
    "    min_x,min_y,max_x,max_y = float('Inf'),float('Inf'),float(\"-Inf\"),float(\"-Inf\")\n",
    "    (h1, w1) = img.shape[:2]\n",
    "    top_left = homo_transform([0, 0], M)\n",
    "    top_right = homo_transform([w1, 0], M)\n",
    "    bottom_left = homo_transform([0, h1], M)\n",
    "    bottom_right = homo_transform([w1, h1], M)\n",
    "    \n",
    "    for corner in [top_left,top_right,bottom_left,bottom_right]:\n",
    "        a, b = corner[0],corner[1]\n",
    "        min_x = a if a < min_x else min_x\n",
    "        max_x = a if a > max_x else max_x\n",
    "        min_y = b if b < min_y else min_y\n",
    "        max_y = b if b > max_y else max_y\n",
    "    T = np.zeros(shape=(3,3))\n",
    "    T[0] = [1, 0, 0]\n",
    "    T[1] = [0, 1, 0]\n",
    "    T[2] = [-min_x, -min_y, 1]\n",
    "\n",
    "    return int(min_x),int(max_x), int(min_y),int(max_y),T.transpose()"
   ]
  },
  {
   "cell_type": "code",
   "execution_count": 76,
   "metadata": {},
   "outputs": [
    {
     "data": {
      "text/plain": [
       "(-377, 3347, -165, 5669, array([[   1.        ,    0.        ,  377.16807868],\n",
       "        [   0.        ,    1.        ,  165.91598705],\n",
       "        [   0.        ,    0.        ,    1.        ]]))"
      ]
     },
     "execution_count": 76,
     "metadata": {},
     "output_type": "execute_result"
    }
   ],
   "source": [
    "CoorTrans(raw_img1,mask)"
   ]
  },
  {
   "cell_type": "code",
   "execution_count": 78,
   "metadata": {},
   "outputs": [],
   "source": [
    "def merge_images_translation(image1, image2, offset):\n",
    "\n",
    "    ## Put images side-by-side into 'image'.\n",
    "    (h1, w1) = image1.shape[:2]\n",
    "    (h2, w2) = image2.shape[:2]\n",
    "    (ox, oy) = offset\n",
    "    ox = int(ox)\n",
    "    oy = int(oy)\n",
    "    oy = 0\n",
    "\n",
    "    image = np.zeros((h1+oy, w1+ox, 3), np.uint8)\n",
    "\n",
    "    image[:h1, :w1] = image1\n",
    "    image[:h2, ox:ox+w2] = image2\n",
    "  \n",
    "    return image\n"
   ]
  },
  {
   "cell_type": "code",
   "execution_count": 80,
   "metadata": {},
   "outputs": [],
   "source": [
    "immmm= merge_images_translation(raw_img1,raw_img2,offset)"
   ]
  },
  {
   "cell_type": "code",
   "execution_count": null,
   "metadata": {},
   "outputs": [],
   "source": []
  },
  {
   "cell_type": "code",
   "execution_count": 85,
   "metadata": {},
   "outputs": [],
   "source": [
    "panorama = merge_images(raw_img1, raw_img2, mask, size, offset)\n"
   ]
  },
  {
   "cell_type": "code",
   "execution_count": null,
   "metadata": {},
   "outputs": [],
   "source": []
  }
 ],
 "metadata": {
  "kernelspec": {
   "display_name": "Python 3",
   "language": "python",
   "name": "python3"
  },
  "language_info": {
   "codemirror_mode": {
    "name": "ipython",
    "version": 3
   },
   "file_extension": ".py",
   "mimetype": "text/x-python",
   "name": "python",
   "nbconvert_exporter": "python",
   "pygments_lexer": "ipython3",
   "version": "3.6.4"
  }
 },
 "nbformat": 4,
 "nbformat_minor": 2
}
