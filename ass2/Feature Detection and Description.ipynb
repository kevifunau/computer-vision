{
 "cells": [
  {
   "cell_type": "markdown",
   "metadata": {},
   "source": [
    "# Understanding Features"
   ]
  },
  {
   "cell_type": "markdown",
   "metadata": {},
   "source": [
    "***我们首先抛出一个显示的问题?***<br>\n",
    "     <br>人类如何玩拼图 jigsaw puzzle games\n",
    "     <br>--> 计算机是否可以玩拼图\n",
    "    <br>--> 计算机是否可以拼接stitching 图片\n",
    "    <br>--> 给定一些图片 生产3D model\n",
    "    \n",
    "***How do we arrange lots of scrambled image pieces into a big single image?***<br>\n",
    "\n",
    "answer:<br> \n",
    "we should be looking for specific patterns or specific features\n",
    "which are unique.<br>\n",
    "我们需要找一些独特的特殊模式和特征<br>\n",
    "\n",
    "***Features***\n",
    "\n",
    "* flat surfaces -- hard to track\n",
    "* edges --better than flat surfaces but still not good enough\n",
    "* corners --good features \n",
    "* blobs 斑点 --good features\n",
    "\n",
    "<br>***Feature Description***\n",
    "<br>find the feature and describe them --> in order to find same features in other images and align them "
   ]
  },
  {
   "cell_type": "markdown",
   "metadata": {},
   "source": [
    "# Harris corner Detection"
   ]
  },
  {
   "cell_type": "markdown",
   "metadata": {},
   "source": [
    "> corners are regions in the image with large variation in intensity in all the directions<br>\n",
    "> corners 像素变化剧烈\n",
    "\n",
    "> Harris corner Detection --> A combined corner and edge detector<br>\n",
    "> 原理： finds the difference in intensity for a displacement of (u,v) in all directions.\n",
    "> [原理详解](https://blog.csdn.net/jia20003/article/details/16908661)"
   ]
  },
  {
   "cell_type": "markdown",
   "metadata": {},
   "source": [
    "### Harris corner detector in Opencv\n",
    "> function : cv2.cornerHarris()\n",
    ">> args:\n",
    "- img - input image\n",
    "- blockSize - size of neighbourhood considered for corner detection\n",
    "- ksize - Aperture parameter of Sobel derivative used.\n",
    "- k - Harris detector free params in the equation (0.04-0.06)"
   ]
  },
  {
   "cell_type": "code",
   "execution_count": 2,
   "metadata": {
    "collapsed": true
   },
   "outputs": [],
   "source": [
    "import cv2\n",
    "import numpy as np"
   ]
  },
  {
   "cell_type": "code",
   "execution_count": 38,
   "metadata": {},
   "outputs": [
    {
     "name": "stdout",
     "output_type": "stream",
     "text": [
      "[[ 252.  253.  254. ...,  252.  250.  250.]\n",
      " [ 253.  253.  254. ...,  253.  251.  251.]\n",
      " [ 254.  254.  255. ...,  254.  253.  252.]\n",
      " ..., \n",
      " [ 239.  255.  249. ...,  243.  242.  253.]\n",
      " [ 253.  229.  254. ...,  248.  249.  251.]\n",
      " [ 253.  249.  254. ...,  253.  251.  251.]] (224, 224)\n"
     ]
    }
   ],
   "source": [
    "filename = \"asset/1_3.jpg\"\n",
    "img = cv2.imread(filename)\n",
    "gray = cv2.cvtColor(img,cv2.COLOR_BGR2GRAY)\n",
    "gray = np.float32(gray)\n",
    "print(gray,gray.shape)"
   ]
  },
  {
   "cell_type": "code",
   "execution_count": 39,
   "metadata": {},
   "outputs": [
    {
     "name": "stdout",
     "output_type": "stream",
     "text": [
      "[[  6.10507846e-01   6.10507846e-01   6.10507846e-01 ...,   6.32640648e+00\n",
      "    6.32640648e+00   6.32640648e+00]\n",
      " [  6.10507846e-01   6.10507846e-01   6.10507846e-01 ...,   6.32640648e+00\n",
      "    6.32640648e+00   6.32640648e+00]\n",
      " [  6.10507846e-01   6.10507846e-01   6.10507846e-01 ...,   6.32640648e+00\n",
      "    6.32640648e+00   6.32640648e+00]\n",
      " ..., \n",
      " [  1.32480219e+05   1.43190938e+06   1.43190938e+06 ...,   5.23248120e+07\n",
      "    3.07994800e+07   1.14087812e+06]\n",
      " [  3.69033203e+01   3.69674377e+02   2.86441375e+05 ...,   5.23248120e+07\n",
      "    3.07994800e+07   1.14087812e+06]\n",
      " [  3.69033203e+01   3.69674377e+02   3.69674377e+02 ...,   5.23248120e+07\n",
      "    3.07994800e+07   1.14087812e+06]]\n"
     ]
    }
   ],
   "source": [
    "dst = cv2.cornerHarris(gray,2,3,0.04)\n",
    "dst = cv2.dilate(dst,None)\n",
    "print(dst)"
   ]
  },
  {
   "cell_type": "code",
   "execution_count": 42,
   "metadata": {
    "collapsed": true
   },
   "outputs": [],
   "source": [
    "img[dst>0.01*dst.max()] = [0,0,255]"
   ]
  },
  {
   "cell_type": "code",
   "execution_count": 43,
   "metadata": {
    "collapsed": true
   },
   "outputs": [],
   "source": [
    "cv2.imshow('dst',img)\n",
    "if cv2.waitKey(0) ==27:\n",
    "    cv2.destroyAllWindows()"
   ]
  },
  {
   "cell_type": "markdown",
   "metadata": {},
   "source": [
    "# Shi-Tomasi Corner Derector & Good Features to track"
   ]
  },
  {
   "cell_type": "markdown",
   "metadata": {},
   "source": [
    "> cv2.goodFeaturesToTrack()"
   ]
  },
  {
   "cell_type": "code",
   "execution_count": 45,
   "metadata": {
    "collapsed": true
   },
   "outputs": [],
   "source": [
    "import numpy as np\n",
    "import cv2\n",
    "from matplotlib import pyplot as plt "
   ]
  },
  {
   "cell_type": "code",
   "execution_count": 45,
   "metadata": {},
   "outputs": [
    {
     "data": {
      "text/plain": [
       "(224, 224)"
      ]
     },
     "execution_count": 45,
     "metadata": {},
     "output_type": "execute_result"
    }
   ],
   "source": [
    "img = cv2.imread(\"asset/1_3.jpg\")\n",
    "gray = cv2.cvtColor(img,cv2.COLOR_BGR2GRAY)\n",
    "\n",
    "gray.shape"
   ]
  },
  {
   "cell_type": "code",
   "execution_count": 46,
   "metadata": {},
   "outputs": [
    {
     "data": {
      "text/plain": [
       "(25, 1, 2)"
      ]
     },
     "execution_count": 46,
     "metadata": {},
     "output_type": "execute_result"
    }
   ],
   "source": [
    "corners = cv2.goodFeaturesToTrack(gray,25,0.01,10)\n",
    "corners = np.int0(corners)\n",
    "corners.shape"
   ]
  },
  {
   "cell_type": "code",
   "execution_count": 47,
   "metadata": {
    "collapsed": true
   },
   "outputs": [],
   "source": [
    "cv2.goodFeaturesToTrack?"
   ]
  },
  {
   "cell_type": "code",
   "execution_count": 48,
   "metadata": {
    "collapsed": true
   },
   "outputs": [],
   "source": [
    "for i in corners:\n",
    "    x,y = i.ravel()\n",
    "    cv2.circle(img,(x,y),3,255,-1)"
   ]
  },
  {
   "cell_type": "code",
   "execution_count": 49,
   "metadata": {
    "collapsed": true
   },
   "outputs": [],
   "source": [
    "cv2.circle?"
   ]
  },
  {
   "cell_type": "markdown",
   "metadata": {},
   "source": [
    "[cv 常见绘图函数](https://blog.csdn.net/qq_18343569/article/details/50275477)"
   ]
  },
  {
   "cell_type": "code",
   "execution_count": 50,
   "metadata": {},
   "outputs": [
    {
     "data": {
      "image/png": "[encoded data removed]",
      "text/plain": [
       "<matplotlib.figure.Figure at 0x7fc7d815bd30>"
      ]
     },
     "metadata": {},
     "output_type": "display_data"
    }
   ],
   "source": [
    "plt.imshow(img)\n",
    "plt.show()"
   ]
  },
  {
   "cell_type": "markdown",
   "metadata": {},
   "source": [
    "# SIFT (scale-invariant feature transform)"
   ]
  },
  {
   "cell_type": "markdown",
   "metadata": {
    "collapsed": true
   },
   "source": [
    "> Harris is rotation-invariant but not scale-invariant"
   ]
  },
  {
   "cell_type": "code",
   "execution_count": 489,
   "metadata": {
    "collapsed": true
   },
   "outputs": [],
   "source": [
    "import numpy as np\n",
    "import cv2"
   ]
  },
  {
   "cell_type": "code",
   "execution_count": 490,
   "metadata": {
    "collapsed": true
   },
   "outputs": [],
   "source": [
    "raw_img1= cv2.imread(\"input/img01.jpg\")\n",
    "raw_img2= cv2.imread(\"input/img02.jpg\")\n"
   ]
  },
  {
   "cell_type": "code",
   "execution_count": 491,
   "metadata": {
    "collapsed": true
   },
   "outputs": [],
   "source": [
    "sift=cv2.xfeatures2d.SIFT_create(200)"
   ]
  },
  {
   "cell_type": "code",
   "execution_count": 492,
   "metadata": {
    "collapsed": true
   },
   "outputs": [],
   "source": [
    "kps1 ,des1= sift.detectAndCompute(raw_img1,None)\n",
    "kps2 ,des2= sift.detectAndCompute(raw_img2,None)"
   ]
  },
  {
   "cell_type": "code",
   "execution_count": 493,
   "metadata": {
    "collapsed": true
   },
   "outputs": [],
   "source": [
    "bf = cv2.BFMatcher()"
   ]
  },
  {
   "cell_type": "code",
   "execution_count": 494,
   "metadata": {},
   "outputs": [
    {
     "data": {
      "text/plain": [
       "200"
      ]
     },
     "execution_count": 494,
     "metadata": {},
     "output_type": "execute_result"
    }
   ],
   "source": [
    "match_list = bf.knnMatch(des1,des2,2)\n",
    "len(match_list)"
   ]
  },
  {
   "cell_type": "code",
   "execution_count": 541,
   "metadata": {},
   "outputs": [
    {
     "data": {
      "text/plain": [
       "134"
      ]
     },
     "execution_count": 541,
     "metadata": {},
     "output_type": "execute_result"
    }
   ],
   "source": [
    "good=[ m for m,n in match_list if m.distance < 0.7* n.distance]\n",
    "len(good)"
   ]
  },
  {
   "cell_type": "code",
   "execution_count": 555,
   "metadata": {},
   "outputs": [],
   "source": [
    "src_pts = np.float32([ kps1[m.queryIdx].pt for m in good ])\n",
    "dst_pts = np.float32([ kps2[m.trainIdx].pt for m in good ])"
   ]
  },
  {
   "cell_type": "code",
   "execution_count": 543,
   "metadata": {},
   "outputs": [
    {
     "data": {
      "text/plain": [
       "array([ 3545.25097656,  3519.30859375], dtype=float32)"
      ]
     },
     "execution_count": 543,
     "metadata": {},
     "output_type": "execute_result"
    }
   ],
   "source": [
    "src_pts[0]"
   ]
  },
  {
   "cell_type": "code",
   "execution_count": 544,
   "metadata": {
    "collapsed": true
   },
   "outputs": [],
   "source": [
    "M, mask = cv2.findHomography(src_pts, dst_pts, cv2.RANSAC,5.0)"
   ]
  },
  {
   "cell_type": "code",
   "execution_count": 545,
   "metadata": {},
   "outputs": [
    {
     "data": {
      "text/plain": [
       "array([[  1.12870367e+00,   4.81487653e-03,  -3.80213471e+02],\n",
       "       [  8.84730075e-02,   1.06671279e+00,  -1.70889972e+02],\n",
       "       [  3.46625384e-05,  -2.94172471e-07,   1.00000000e+00]])"
      ]
     },
     "execution_count": 545,
     "metadata": {},
     "output_type": "execute_result"
    }
   ],
   "source": [
    "M"
   ]
  },
  {
   "cell_type": "code",
   "execution_count": 546,
   "metadata": {},
   "outputs": [],
   "source": [
    "m_inlier = mask.ravel()"
   ]
  },
  {
   "cell_type": "code",
   "execution_count": 547,
   "metadata": {
    "collapsed": true
   },
   "outputs": [],
   "source": [
    "M = cv2.findHomography(src_pts[m_inlier==1], dst_pts[m_inlier==1])[0]"
   ]
  },
  {
   "cell_type": "code",
   "execution_count": 548,
   "metadata": {},
   "outputs": [
    {
     "data": {
      "text/plain": [
       "array([[  1.12870367e+00,   4.81487653e-03,  -3.80213471e+02],\n",
       "       [  8.84730075e-02,   1.06671279e+00,  -1.70889972e+02],\n",
       "       [  3.46625384e-05,  -2.94172471e-07,   1.00000000e+00]])"
      ]
     },
     "execution_count": 548,
     "metadata": {},
     "output_type": "execute_result"
    }
   ],
   "source": [
    "M"
   ]
  },
  {
   "cell_type": "code",
   "execution_count": 554,
   "metadata": {},
   "outputs": [
    {
     "data": {
      "text/plain": [
       "array([[ 2771.72998047,  3192.59594727],\n",
       "       [ 1207.05761719,  3410.55786133],\n",
       "       [ 1463.59265137,  4310.71191406],\n",
       "       [ 2830.61621094,   595.84350586],\n",
       "       [ 1779.28112793,  3207.578125  ],\n",
       "       [ 3275.39746094,  3015.29467773],\n",
       "       [ 3471.05419922,  3300.60595703],\n",
       "       [ 3476.98974609,  3294.18408203],\n",
       "       [ 3153.6015625 ,  3775.42163086],\n",
       "       [ 2743.61010742,  3223.33740234],\n",
       "       [ 1648.75915527,  3215.52416992],\n",
       "       [  836.40374756,  4548.61962891],\n",
       "       [ 2813.66650391,  3194.30004883],\n",
       "       [ 3471.31030273,  2984.37036133],\n",
       "       [ 3545.25097656,  3519.30859375],\n",
       "       [ 1447.88720703,  4310.84423828],\n",
       "       [ 1762.24353027,  3205.20483398],\n",
       "       [ 1745.83459473,  3791.07446289],\n",
       "       [ 3494.04125977,  3056.94433594],\n",
       "       [ 1299.97900391,  3392.69946289],\n",
       "       [ 3406.49365234,  3672.22802734],\n",
       "       [ 3202.48022461,  2970.47607422],\n",
       "       [ 3008.61547852,  3165.8972168 ],\n",
       "       [  479.80230713,   843.55090332],\n",
       "       [ 2749.2175293 ,  3197.25561523],\n",
       "       [ 1774.01879883,  3359.41699219],\n",
       "       [ 2516.80004883,  3357.39697266],\n",
       "       [  577.61627197,  1276.39733887],\n",
       "       [ 2843.87060547,  3186.32666016],\n",
       "       [ 3263.67822266,  3025.24487305],\n",
       "       [ 3482.70117188,  3011.10668945],\n",
       "       [ 1786.69091797,  3389.70605469],\n",
       "       [ 3212.76245117,  3014.42382812],\n",
       "       [ 3158.87744141,  3150.17700195],\n",
       "       [ 1410.06420898,  3247.78295898],\n",
       "       [ 3250.34838867,  3006.11425781],\n",
       "       [ 1879.23217773,  2493.13110352],\n",
       "       [ 3479.25341797,  2996.81640625],\n",
       "       [ 3365.0546875 ,  3077.50170898],\n",
       "       [ 2516.80004883,  3357.39697266],\n",
       "       [ 2838.06079102,  3371.55224609],\n",
       "       [ 1907.85693359,  3643.0847168 ],\n",
       "       [ 2957.01538086,  3143.54052734],\n",
       "       [ 1311.57397461,  3346.25512695],\n",
       "       [ 1742.44287109,  3344.53759766],\n",
       "       [ 3490.31445312,  3002.97167969],\n",
       "       [  717.89611816,  2349.85668945],\n",
       "       [ 2140.29003906,  4091.03027344],\n",
       "       [ 3008.61547852,  3165.8972168 ],\n",
       "       [ 3410.4855957 ,  3080.17236328],\n",
       "       [ 3507.70849609,  3037.69189453],\n",
       "       [ 1371.4140625 ,  3293.8034668 ],\n",
       "       [ 2140.29003906,  4091.03027344],\n",
       "       [ 2816.47412109,  3356.73828125],\n",
       "       [ 2862.39013672,  3179.71289062],\n",
       "       [ 1757.25341797,  3266.70800781],\n",
       "       [ 1614.21557617,  3304.3840332 ],\n",
       "       [ 1698.11047363,  3394.34130859],\n",
       "       [ 1975.19445801,  2392.46240234],\n",
       "       [ 1975.19445801,  2392.46240234],\n",
       "       [ 2815.47509766,  3208.75097656],\n",
       "       [ 2866.11303711,  3195.20605469],\n",
       "       [ 3480.72851562,  3037.52270508],\n",
       "       [ 3444.5612793 ,  3701.90039062],\n",
       "       [ 1315.19702148,  3357.78833008],\n",
       "       [ 3268.36303711,  3025.41235352],\n",
       "       [ 2582.31298828,  3172.46166992],\n",
       "       [ 2104.52734375,  2119.77246094],\n",
       "       [ 1340.82128906,  3331.69555664],\n",
       "       [ 1583.85314941,  3429.7644043 ],\n",
       "       [ 1711.35473633,  3042.25317383],\n",
       "       [ 3219.33129883,  2969.07348633],\n",
       "       [ 3159.51293945,  3794.30517578],\n",
       "       [ 3472.24169922,  3025.3503418 ],\n",
       "       [ 3263.59082031,  3009.08789062],\n",
       "       [ 3401.80273438,  3681.56982422],\n",
       "       [  967.30725098,  2088.58544922],\n",
       "       [ 2131.53857422,  3517.20654297],\n",
       "       [ 2843.87060547,  3186.32666016],\n",
       "       [  717.89611816,  2349.85668945],\n",
       "       [ 1514.64868164,  2187.04467773],\n",
       "       [ 3482.70117188,  3011.10668945],\n",
       "       [ 3478.41430664,  3017.68359375],\n",
       "       [ 2893.80273438,   237.44644165],\n",
       "       [ 2049.40649414,  3221.03540039],\n",
       "       [ 3561.00952148,  3167.72363281],\n",
       "       [ 3457.31274414,  2990.60131836],\n",
       "       [ 2830.61621094,   595.84350586],\n",
       "       [ 3159.51293945,  3794.30517578],\n",
       "       [ 1653.36547852,  3219.796875  ],\n",
       "       [ 1215.2635498 ,  3413.83276367],\n",
       "       [ 1515.31237793,  3663.69677734],\n",
       "       [ 3029.02270508,  3408.51708984],\n",
       "       [ 1491.64599609,  3157.67578125],\n",
       "       [ 2789.26147461,  3213.2121582 ],\n",
       "       [ 2141.80761719,  4068.65332031],\n",
       "       [ 3486.35180664,  2983.07885742],\n",
       "       [ 1948.88818359,  2448.20507812],\n",
       "       [ 1347.54492188,  3296.12280273],\n",
       "       [ 3273.5534668 ,  3008.63085938],\n",
       "       [ 2749.2175293 ,  3197.25561523],\n",
       "       [ 3242.27978516,  3015.51391602],\n",
       "       [ 2141.80761719,  4068.65332031],\n",
       "       [  967.30725098,  2088.58544922],\n",
       "       [ 2638.1159668 ,  3370.57397461],\n",
       "       [ 1207.05761719,  3410.55786133],\n",
       "       [ 2964.48974609,  3171.81201172],\n",
       "       [ 2710.16455078,  4508.05517578],\n",
       "       [ 1440.51147461,  4287.41210938],\n",
       "       [ 3153.6015625 ,  3775.42163086],\n",
       "       [  926.81469727,  4466.25878906],\n",
       "       [ 3263.59082031,  3009.08789062],\n",
       "       [ 1703.77563477,  3030.84375   ],\n",
       "       [ 1440.51147461,  4287.41210938],\n",
       "       [ 3243.82788086,  2990.40698242],\n",
       "       [ 1779.28112793,  3207.578125  ],\n",
       "       [ 3401.80273438,  3681.56982422],\n",
       "       [ 3219.33129883,  2969.07348633],\n",
       "       [ 2063.6027832 ,  4020.19799805],\n",
       "       [ 1777.99328613,  3209.11181641],\n",
       "       [ 2830.61621094,   595.84350586],\n",
       "       [ 1670.71179199,  3298.34960938],\n",
       "       [ 1062.39135742,   976.73254395],\n",
       "       [ 2553.17871094,  3520.34814453],\n",
       "       [ 1278.3248291 ,  3447.59936523],\n",
       "       [ 1343.51269531,  3356.51416016],\n",
       "       [ 1299.97900391,  3392.69946289],\n",
       "       [ 1777.99328613,  3209.11181641],\n",
       "       [ 1463.59265137,  4310.71191406],\n",
       "       [ 1290.40563965,  3377.64990234],\n",
       "       [ 3447.71386719,  2967.10986328],\n",
       "       [ 3187.64233398,  2984.49047852],\n",
       "       [ 2554.58325195,  3958.23486328],\n",
       "       [ 1774.01879883,  3359.41699219]], dtype=float32)"
      ]
     },
     "execution_count": 554,
     "metadata": {},
     "output_type": "execute_result"
    }
   ],
   "source": [
    "src_pts"
   ]
  },
  {
   "cell_type": "code",
   "execution_count": 550,
   "metadata": {},
   "outputs": [],
   "source": [
    "def random_partition(data):\n",
    "    np.random.shuffle(data.copy())\n",
    "    twoPoints = data[:2]\n",
    "    samplePoint = data[2:]\n",
    "    return twoPoints,samplePoint\n",
    "    "
   ]
  },
  {
   "cell_type": "code",
   "execution_count": 552,
   "metadata": {},
   "outputs": [],
   "source": [
    "a,b = random_partition(src_pts)"
   ]
  },
  {
   "cell_type": "code",
   "execution_count": 553,
   "metadata": {},
   "outputs": [
    {
     "data": {
      "text/plain": [
       "array([[ 2771.72998047,  3192.59594727],\n",
       "       [ 1207.05761719,  3410.55786133],\n",
       "       [ 1463.59265137,  4310.71191406],\n",
       "       [ 2830.61621094,   595.84350586],\n",
       "       [ 1779.28112793,  3207.578125  ],\n",
       "       [ 3275.39746094,  3015.29467773],\n",
       "       [ 3471.05419922,  3300.60595703],\n",
       "       [ 3476.98974609,  3294.18408203],\n",
       "       [ 3153.6015625 ,  3775.42163086],\n",
       "       [ 2743.61010742,  3223.33740234],\n",
       "       [ 1648.75915527,  3215.52416992],\n",
       "       [  836.40374756,  4548.61962891],\n",
       "       [ 2813.66650391,  3194.30004883],\n",
       "       [ 3471.31030273,  2984.37036133],\n",
       "       [ 3545.25097656,  3519.30859375],\n",
       "       [ 1447.88720703,  4310.84423828],\n",
       "       [ 1762.24353027,  3205.20483398],\n",
       "       [ 1745.83459473,  3791.07446289],\n",
       "       [ 3494.04125977,  3056.94433594],\n",
       "       [ 1299.97900391,  3392.69946289],\n",
       "       [ 3406.49365234,  3672.22802734],\n",
       "       [ 3202.48022461,  2970.47607422],\n",
       "       [ 3008.61547852,  3165.8972168 ],\n",
       "       [  479.80230713,   843.55090332],\n",
       "       [ 2749.2175293 ,  3197.25561523],\n",
       "       [ 1774.01879883,  3359.41699219],\n",
       "       [ 2516.80004883,  3357.39697266],\n",
       "       [  577.61627197,  1276.39733887],\n",
       "       [ 2843.87060547,  3186.32666016],\n",
       "       [ 3263.67822266,  3025.24487305],\n",
       "       [ 3482.70117188,  3011.10668945],\n",
       "       [ 1786.69091797,  3389.70605469],\n",
       "       [ 3212.76245117,  3014.42382812],\n",
       "       [ 3158.87744141,  3150.17700195],\n",
       "       [ 1410.06420898,  3247.78295898],\n",
       "       [ 3250.34838867,  3006.11425781],\n",
       "       [ 1879.23217773,  2493.13110352],\n",
       "       [ 3479.25341797,  2996.81640625],\n",
       "       [ 3365.0546875 ,  3077.50170898],\n",
       "       [ 2516.80004883,  3357.39697266],\n",
       "       [ 2838.06079102,  3371.55224609],\n",
       "       [ 1907.85693359,  3643.0847168 ],\n",
       "       [ 2957.01538086,  3143.54052734],\n",
       "       [ 1311.57397461,  3346.25512695],\n",
       "       [ 1742.44287109,  3344.53759766],\n",
       "       [ 3490.31445312,  3002.97167969],\n",
       "       [  717.89611816,  2349.85668945],\n",
       "       [ 2140.29003906,  4091.03027344],\n",
       "       [ 3008.61547852,  3165.8972168 ],\n",
       "       [ 3410.4855957 ,  3080.17236328],\n",
       "       [ 3507.70849609,  3037.69189453],\n",
       "       [ 1371.4140625 ,  3293.8034668 ],\n",
       "       [ 2140.29003906,  4091.03027344],\n",
       "       [ 2816.47412109,  3356.73828125],\n",
       "       [ 2862.39013672,  3179.71289062],\n",
       "       [ 1757.25341797,  3266.70800781],\n",
       "       [ 1614.21557617,  3304.3840332 ],\n",
       "       [ 1698.11047363,  3394.34130859],\n",
       "       [ 1975.19445801,  2392.46240234],\n",
       "       [ 1975.19445801,  2392.46240234],\n",
       "       [ 2815.47509766,  3208.75097656],\n",
       "       [ 2866.11303711,  3195.20605469],\n",
       "       [ 3480.72851562,  3037.52270508],\n",
       "       [ 3444.5612793 ,  3701.90039062],\n",
       "       [ 1315.19702148,  3357.78833008],\n",
       "       [ 3268.36303711,  3025.41235352],\n",
       "       [ 2582.31298828,  3172.46166992],\n",
       "       [ 2104.52734375,  2119.77246094],\n",
       "       [ 1340.82128906,  3331.69555664],\n",
       "       [ 1583.85314941,  3429.7644043 ],\n",
       "       [ 1711.35473633,  3042.25317383],\n",
       "       [ 3219.33129883,  2969.07348633],\n",
       "       [ 3159.51293945,  3794.30517578],\n",
       "       [ 3472.24169922,  3025.3503418 ],\n",
       "       [ 3263.59082031,  3009.08789062],\n",
       "       [ 3401.80273438,  3681.56982422],\n",
       "       [  967.30725098,  2088.58544922],\n",
       "       [ 2131.53857422,  3517.20654297],\n",
       "       [ 2843.87060547,  3186.32666016],\n",
       "       [  717.89611816,  2349.85668945],\n",
       "       [ 1514.64868164,  2187.04467773],\n",
       "       [ 3482.70117188,  3011.10668945],\n",
       "       [ 3478.41430664,  3017.68359375],\n",
       "       [ 2893.80273438,   237.44644165],\n",
       "       [ 2049.40649414,  3221.03540039],\n",
       "       [ 3561.00952148,  3167.72363281],\n",
       "       [ 3457.31274414,  2990.60131836],\n",
       "       [ 2830.61621094,   595.84350586],\n",
       "       [ 3159.51293945,  3794.30517578],\n",
       "       [ 1653.36547852,  3219.796875  ],\n",
       "       [ 1215.2635498 ,  3413.83276367],\n",
       "       [ 1515.31237793,  3663.69677734],\n",
       "       [ 3029.02270508,  3408.51708984],\n",
       "       [ 1491.64599609,  3157.67578125],\n",
       "       [ 2789.26147461,  3213.2121582 ],\n",
       "       [ 2141.80761719,  4068.65332031],\n",
       "       [ 3486.35180664,  2983.07885742],\n",
       "       [ 1948.88818359,  2448.20507812],\n",
       "       [ 1347.54492188,  3296.12280273],\n",
       "       [ 3273.5534668 ,  3008.63085938],\n",
       "       [ 2749.2175293 ,  3197.25561523],\n",
       "       [ 3242.27978516,  3015.51391602],\n",
       "       [ 2141.80761719,  4068.65332031],\n",
       "       [  967.30725098,  2088.58544922],\n",
       "       [ 2638.1159668 ,  3370.57397461],\n",
       "       [ 1207.05761719,  3410.55786133],\n",
       "       [ 2964.48974609,  3171.81201172],\n",
       "       [ 2710.16455078,  4508.05517578],\n",
       "       [ 1440.51147461,  4287.41210938],\n",
       "       [ 3153.6015625 ,  3775.42163086],\n",
       "       [  926.81469727,  4466.25878906],\n",
       "       [ 3263.59082031,  3009.08789062],\n",
       "       [ 1703.77563477,  3030.84375   ],\n",
       "       [ 1440.51147461,  4287.41210938],\n",
       "       [ 3243.82788086,  2990.40698242],\n",
       "       [ 1779.28112793,  3207.578125  ],\n",
       "       [ 3401.80273438,  3681.56982422],\n",
       "       [ 3219.33129883,  2969.07348633],\n",
       "       [ 2063.6027832 ,  4020.19799805],\n",
       "       [ 1777.99328613,  3209.11181641],\n",
       "       [ 2830.61621094,   595.84350586],\n",
       "       [ 1670.71179199,  3298.34960938],\n",
       "       [ 1062.39135742,   976.73254395],\n",
       "       [ 2553.17871094,  3520.34814453],\n",
       "       [ 1278.3248291 ,  3447.59936523],\n",
       "       [ 1343.51269531,  3356.51416016],\n",
       "       [ 1299.97900391,  3392.69946289],\n",
       "       [ 1777.99328613,  3209.11181641],\n",
       "       [ 1463.59265137,  4310.71191406],\n",
       "       [ 1290.40563965,  3377.64990234],\n",
       "       [ 3447.71386719,  2967.10986328],\n",
       "       [ 3187.64233398,  2984.49047852],\n",
       "       [ 2554.58325195,  3958.23486328],\n",
       "       [ 1774.01879883,  3359.41699219]], dtype=float32)"
      ]
     },
     "execution_count": 553,
     "metadata": {},
     "output_type": "execute_result"
    }
   ],
   "source": [
    "src_pts"
   ]
  },
  {
   "cell_type": "code",
   "execution_count": null,
   "metadata": {
    "collapsed": true
   },
   "outputs": [],
   "source": [
    "def racsacAlgo(data,num,iter,thresDist,inlinerRatio):\n",
    "    for i in range(iter):\n",
    "        # randomly select 2 points\n",
    "        sample =(data[r] for r in np.randint(0,len(data),2))\n",
    "        # fit two points \n",
    "        y = np.poly1d(np.polyfit([i[0] for i in sample],[i[1] for i in sample],1))   "
   ]
  },
  {
   "cell_type": "code",
   "execution_count": null,
   "metadata": {
    "collapsed": true
   },
   "outputs": [],
   "source": []
  },
  {
   "cell_type": "code",
   "execution_count": null,
   "metadata": {
    "collapsed": true
   },
   "outputs": [],
   "source": []
  },
  {
   "cell_type": "code",
   "execution_count": null,
   "metadata": {
    "collapsed": true
   },
   "outputs": [],
   "source": []
  }
 ],
 "metadata": {
  "kernelspec": {
   "display_name": "Python 3",
   "language": "python",
   "name": "python3"
  },
  "language_info": {
   "codemirror_mode": {
    "name": "ipython",
    "version": 3
   },
   "file_extension": ".py",
   "mimetype": "text/x-python",
   "name": "python",
   "nbconvert_exporter": "python",
   "pygments_lexer": "ipython3",
   "version": "3.6.3"
  }
 },
 "nbformat": 4,
 "nbformat_minor": 2
}
