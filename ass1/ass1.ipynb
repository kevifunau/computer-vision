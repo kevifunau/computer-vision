{
 "cells": [
  {
   "cell_type": "markdown",
   "metadata": {},
   "source": [
    "# segmentation"
   ]
  },
  {
   "cell_type": "code",
   "execution_count": 32,
   "metadata": {},
   "outputs": [],
   "source": [
    "import cv2\n",
    "import numpy as np\n",
    "import sys\n",
    "import os\n",
    "import matplotlib.pyplot as plt"
   ]
  },
  {
   "cell_type": "markdown",
   "metadata": {},
   "source": [
    "### cv2.imread()\n",
    "Second argument is a flag which specifies the way image should be read.\n",
    "\n",
    "- cv2.IMREAD_COLOR : Loads a color image. Any transparency of image will be neglected. It is the default flag.\n",
    "- cv2.IMREAD_GRAYSCALE : Loads image in grayscale mode\n",
    "- cv2.IMREAD_UNCHANGED : Loads image as such including alpha channel"
   ]
  },
  {
   "cell_type": "code",
   "execution_count": 33,
   "metadata": {},
   "outputs": [
    {
     "name": "stdout",
     "output_type": "stream",
     "text": [
      "[[181 181 184 ... 167 167 170]\n",
      " [181 183 186 ... 122 120 119]\n",
      " [181 184 186 ...  98  93  88]\n",
      " ...\n",
      " [177 179 178 ... 215 215 216]\n",
      " [177 180 179 ... 215 216 216]\n",
      " [179 182 181 ... 215 216 217]] (510, 636)\n"
     ]
    }
   ],
   "source": [
    "# load image at greyscale mode\n",
    "image = cv2.imread(\"ductile_iron2-0.jpg\",cv2.IMREAD_GRAYSCALE)\n",
    "print(image,image.shape)"
   ]
  },
  {
   "cell_type": "code",
   "execution_count": 34,
   "metadata": {},
   "outputs": [],
   "source": [
    "ret, imgf = cv2.threshold(image, 0, 255, cv2.THRESH_BINARY+cv2.THRESH_OTSU)"
   ]
  },
  {
   "cell_type": "code",
   "execution_count": 37,
   "metadata": {},
   "outputs": [
    {
     "data": {
      "text/plain": [
       "array([[255, 255, 255, ..., 255, 255, 255],\n",
       "       [255, 255, 255, ...,   0,   0,   0],\n",
       "       [255, 255, 255, ...,   0,   0,   0],\n",
       "       ...,\n",
       "       [255, 255, 255, ..., 255, 255, 255],\n",
       "       [255, 255, 255, ..., 255, 255, 255],\n",
       "       [255, 255, 255, ..., 255, 255, 255]], dtype=uint8)"
      ]
     },
     "execution_count": 37,
     "metadata": {},
     "output_type": "execute_result"
    }
   ],
   "source": [
    "imgf"
   ]
  },
  {
   "cell_type": "code",
   "execution_count": 40,
   "metadata": {},
   "outputs": [
    {
     "data": {
      "text/plain": [
       "True"
      ]
     },
     "execution_count": 40,
     "metadata": {},
     "output_type": "execute_result"
    }
   ],
   "source": [
    "cv2.imwrite('aaaa.png',imgf)"
   ]
  },
  {
   "cell_type": "code",
   "execution_count": 3,
   "metadata": {},
   "outputs": [],
   "source": [
    "# define 0-255 array\n",
    "hist_array = np.zeros(256,dtype=np.int32)\n",
    "for i in image.ravel():\n",
    "    hist_array[i]+=1\n",
    "# transfer to frequency [0,1]\n",
    "hist_array_f = np.zeros(256,dtype=np.float128)\n",
    "for i in range(256):\n",
    "    hist_array_f[i] = hist_array[i] / image.size"
   ]
  },
  {
   "cell_type": "code",
   "execution_count": 4,
   "metadata": {},
   "outputs": [
    {
     "name": "stdout",
     "output_type": "stream",
     "text": [
      "143\n"
     ]
    }
   ],
   "source": [
    "max_th=0\n",
    "max_th_value = 0\n",
    "rr = []\n",
    "for t in range(256):\n",
    "    # probability of foreground\n",
    "    wf = sum([ p for p in hist_array_f[:t+1]])\n",
    "    wb = sum([ p for p in hist_array_f[t+1:]])\n",
    "    # varience \n",
    "    vf = 0\n",
    "    vb = 0\n",
    "    for i in range(t+1):\n",
    "        vf += i*hist_array_f[i]\n",
    "    for i in range(t+1,256):\n",
    "        vb += i*hist_array_f[i]\n",
    "        \n",
    "    if(wf ==0 or wb ==0):\n",
    "        continue\n",
    "        \n",
    "    vf = vf / wf \n",
    "    vb = vb / wb \n",
    "    \n",
    "    # the inter-class varience\n",
    "    r = wf*wb*(vf - vb)*(vf - vb)\n",
    "    \n",
    "    \n",
    "    if r > max_th_value:\n",
    "        max_th_value = r\n",
    "        max_th = t\n",
    "\n",
    "print(max_th)\n",
    "    "
   ]
  },
  {
   "cell_type": "code",
   "execution_count": null,
   "metadata": {},
   "outputs": [],
   "source": []
  },
  {
   "cell_type": "code",
   "execution_count": null,
   "metadata": {},
   "outputs": [],
   "source": []
  }
 ],
 "metadata": {
  "kernelspec": {
   "display_name": "Python 3",
   "language": "python",
   "name": "python3"
  },
  "language_info": {
   "codemirror_mode": {
    "name": "ipython",
    "version": 3
   },
   "file_extension": ".py",
   "mimetype": "text/x-python",
   "name": "python",
   "nbconvert_exporter": "python",
   "pygments_lexer": "ipython3",
   "version": "3.6.4"
  }
 },
 "nbformat": 4,
 "nbformat_minor": 2
}
